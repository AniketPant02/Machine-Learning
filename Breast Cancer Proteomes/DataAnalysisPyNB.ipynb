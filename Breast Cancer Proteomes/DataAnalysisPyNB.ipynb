{
 "cells": [
  {
   "cell_type": "markdown",
   "metadata": {
    "nbpresent": {
     "id": "4c3fc104-7e5e-4dd6-82ea-3fe120827abd"
    },
    "slideshow": {
     "slide_type": "slide"
    }
   },
   "source": [
    "# Automated Classification of Breast Cancer Patients via Supervised Machine Learning Algorithms"
   ]
  },
  {
   "cell_type": "markdown",
   "metadata": {
    "slideshow": {
     "slide_type": "slide"
    }
   },
   "source": [
    "#### Peter Sondergaard, SVP, Gartner Research \n",
    "> Information is the oil of the 21st century, and analytics is the combustion engine."
   ]
  },
  {
   "cell_type": "markdown",
   "metadata": {
    "nbpresent": {
     "id": "44e13620-c5ae-4f5a-93a7-cce66a8d6319"
    },
    "slideshow": {
     "slide_type": "slide"
    }
   },
   "source": [
    "Begin by imported relevant libraries and data sheets."
   ]
  },
  {
   "cell_type": "code",
   "execution_count": 2,
   "metadata": {
    "collapsed": true,
    "nbpresent": {
     "id": "5e5af5ac-1761-42d6-8623-47440c868209"
    },
    "slideshow": {
     "slide_type": "slide"
    }
   },
   "outputs": [],
   "source": [
    "import numpy as np\n",
    "import pandas as pd\n",
    "import matplotlib.pyplot as plt\n",
    "import seaborn as sns\n",
    "%matplotlib inline\n",
    "plt.style.use('ggplot')"
   ]
  },
  {
   "cell_type": "markdown",
   "metadata": {},
   "source": [
    "We will be using Numpy for High Performance Mathematical Computations, Pandas for Data Analytics and Management, Matplotlib and Seaborn as a plotting interface for generating readable graphs."
   ]
  },
  {
   "cell_type": "code",
   "execution_count": 3,
   "metadata": {
    "collapsed": true
   },
   "outputs": [],
   "source": [
    "clinicalData = pd.read_csv('C:\\\\Users\\\\Aniket Pant\\\\Documents\\\\GitHub\\\\Machine-Learning\\\\Breast Cancer Proteomes\\\\breastcancerproteomes\\\\clinical_data_breast_cancer.csv')\n",
    "pam50proteinData = pd.read_csv(\"C:\\\\Users\\\\Aniket Pant\\\\Documents\\\\GitHub\\\\Machine-Learning\\\\Breast Cancer Proteomes\\\\breastcancerproteomes\\\\PAM50_proteins.csv\")\n",
    "cancerProteomeData = pd.read_csv(\"C:\\\\Users\\\\Aniket Pant\\\\Documents\\\\GitHub\\\\Machine-Learning\\\\Breast Cancer Proteomes\\\\breastcancerproteomes\\\\77_cancer_proteomes_CPTAC_itraq.csv\")"
   ]
  },
  {
   "cell_type": "markdown",
   "metadata": {
    "nbpresent": {
     "id": "82be679e-a22a-4ccf-8930-4cf322259ff3"
    }
   },
   "source": [
    "### Checking how Data is laid out in all three datasets allows us to better assess how to wrangle it."
   ]
  },
  {
   "cell_type": "code",
   "execution_count": 4,
   "metadata": {
    "nbpresent": {
     "id": "8b8a24b4-b436-4461-a149-24a2b5910c88"
    }
   },
   "outputs": [
    {
     "data": {
      "text/html": [
       "<div>\n",
       "<style>\n",
       "    .dataframe thead tr:only-child th {\n",
       "        text-align: right;\n",
       "    }\n",
       "\n",
       "    .dataframe thead th {\n",
       "        text-align: left;\n",
       "    }\n",
       "\n",
       "    .dataframe tbody tr th {\n",
       "        vertical-align: top;\n",
       "    }\n",
       "</style>\n",
       "<table border=\"1\" class=\"dataframe\">\n",
       "  <thead>\n",
       "    <tr style=\"text-align: right;\">\n",
       "      <th></th>\n",
       "      <th>GeneSymbol</th>\n",
       "      <th>RefSeqProteinID</th>\n",
       "      <th>Species</th>\n",
       "      <th>Gene Name</th>\n",
       "    </tr>\n",
       "  </thead>\n",
       "  <tbody>\n",
       "    <tr>\n",
       "      <th>0</th>\n",
       "      <td>MIA</td>\n",
       "      <td>NP_006524</td>\n",
       "      <td>Homo sapiens</td>\n",
       "      <td>melanoma inhibitory activity</td>\n",
       "    </tr>\n",
       "    <tr>\n",
       "      <th>1</th>\n",
       "      <td>FGFR4</td>\n",
       "      <td>NP_002002</td>\n",
       "      <td>Homo sapiens</td>\n",
       "      <td>fibroblast growth factor receptor 4</td>\n",
       "    </tr>\n",
       "    <tr>\n",
       "      <th>2</th>\n",
       "      <td>FGFR4</td>\n",
       "      <td>NP_998812</td>\n",
       "      <td>Homo sapiens</td>\n",
       "      <td>fibroblast growth factor receptor 4</td>\n",
       "    </tr>\n",
       "    <tr>\n",
       "      <th>3</th>\n",
       "      <td>FGFR4</td>\n",
       "      <td>NP_075252</td>\n",
       "      <td>Homo sapiens</td>\n",
       "      <td>fibroblast growth factor receptor 4</td>\n",
       "    </tr>\n",
       "    <tr>\n",
       "      <th>4</th>\n",
       "      <td>GPR160</td>\n",
       "      <td>NP_055188</td>\n",
       "      <td>Homo sapiens</td>\n",
       "      <td>G protein-coupled receptor 160</td>\n",
       "    </tr>\n",
       "  </tbody>\n",
       "</table>\n",
       "</div>"
      ],
      "text/plain": [
       "  GeneSymbol RefSeqProteinID       Species  \\\n",
       "0        MIA       NP_006524  Homo sapiens   \n",
       "1      FGFR4       NP_002002  Homo sapiens   \n",
       "2      FGFR4       NP_998812  Homo sapiens   \n",
       "3      FGFR4       NP_075252  Homo sapiens   \n",
       "4     GPR160       NP_055188  Homo sapiens   \n",
       "\n",
       "                             Gene Name  \n",
       "0         melanoma inhibitory activity  \n",
       "1  fibroblast growth factor receptor 4  \n",
       "2  fibroblast growth factor receptor 4  \n",
       "3  fibroblast growth factor receptor 4  \n",
       "4       G protein-coupled receptor 160  "
      ]
     },
     "execution_count": 4,
     "metadata": {},
     "output_type": "execute_result"
    }
   ],
   "source": [
    "pam50proteinData.head()"
   ]
  },
  {
   "cell_type": "code",
   "execution_count": 5,
   "metadata": {
    "nbpresent": {
     "id": "7a17abed-2766-48d9-ad7e-8eba55eb9370"
    }
   },
   "outputs": [
    {
     "data": {
      "text/html": [
       "<div>\n",
       "<style>\n",
       "    .dataframe thead tr:only-child th {\n",
       "        text-align: right;\n",
       "    }\n",
       "\n",
       "    .dataframe thead th {\n",
       "        text-align: left;\n",
       "    }\n",
       "\n",
       "    .dataframe tbody tr th {\n",
       "        vertical-align: top;\n",
       "    }\n",
       "</style>\n",
       "<table border=\"1\" class=\"dataframe\">\n",
       "  <thead>\n",
       "    <tr style=\"text-align: right;\">\n",
       "      <th></th>\n",
       "      <th>RefSeq_accession_number</th>\n",
       "      <th>gene_symbol</th>\n",
       "      <th>gene_name</th>\n",
       "      <th>AO-A12D.01TCGA</th>\n",
       "      <th>C8-A131.01TCGA</th>\n",
       "      <th>AO-A12B.01TCGA</th>\n",
       "      <th>BH-A18Q.02TCGA</th>\n",
       "      <th>C8-A130.02TCGA</th>\n",
       "      <th>C8-A138.03TCGA</th>\n",
       "      <th>E2-A154.03TCGA</th>\n",
       "      <th>...</th>\n",
       "      <th>AO-A12B.34TCGA</th>\n",
       "      <th>A2-A0SW.35TCGA</th>\n",
       "      <th>AO-A0JL.35TCGA</th>\n",
       "      <th>BH-A0BV.35TCGA</th>\n",
       "      <th>A2-A0YM.36TCGA</th>\n",
       "      <th>BH-A0C7.36TCGA</th>\n",
       "      <th>A2-A0SX.36TCGA</th>\n",
       "      <th>263d3f-I.CPTAC</th>\n",
       "      <th>blcdb9-I.CPTAC</th>\n",
       "      <th>c4155b-C.CPTAC</th>\n",
       "    </tr>\n",
       "  </thead>\n",
       "  <tbody>\n",
       "    <tr>\n",
       "      <th>0</th>\n",
       "      <td>NP_958782</td>\n",
       "      <td>PLEC</td>\n",
       "      <td>plectin isoform 1</td>\n",
       "      <td>1.096131</td>\n",
       "      <td>2.609943</td>\n",
       "      <td>-0.659828</td>\n",
       "      <td>0.195341</td>\n",
       "      <td>-0.494060</td>\n",
       "      <td>2.765081</td>\n",
       "      <td>0.862659</td>\n",
       "      <td>...</td>\n",
       "      <td>-0.963904</td>\n",
       "      <td>-0.487772</td>\n",
       "      <td>-0.10668</td>\n",
       "      <td>-0.065838</td>\n",
       "      <td>0.655850</td>\n",
       "      <td>-0.552212</td>\n",
       "      <td>-0.398560</td>\n",
       "      <td>0.598585</td>\n",
       "      <td>-0.191285</td>\n",
       "      <td>0.566975</td>\n",
       "    </tr>\n",
       "    <tr>\n",
       "      <th>1</th>\n",
       "      <td>NP_958785</td>\n",
       "      <td>NaN</td>\n",
       "      <td>plectin isoform 1g</td>\n",
       "      <td>1.111370</td>\n",
       "      <td>2.650422</td>\n",
       "      <td>-0.648742</td>\n",
       "      <td>0.215413</td>\n",
       "      <td>-0.503899</td>\n",
       "      <td>2.779709</td>\n",
       "      <td>0.870186</td>\n",
       "      <td>...</td>\n",
       "      <td>-0.938210</td>\n",
       "      <td>-0.487772</td>\n",
       "      <td>-0.10668</td>\n",
       "      <td>-0.055893</td>\n",
       "      <td>0.658143</td>\n",
       "      <td>-0.547749</td>\n",
       "      <td>-0.392601</td>\n",
       "      <td>0.606697</td>\n",
       "      <td>-0.183918</td>\n",
       "      <td>0.578702</td>\n",
       "    </tr>\n",
       "    <tr>\n",
       "      <th>2</th>\n",
       "      <td>NP_958786</td>\n",
       "      <td>PLEC</td>\n",
       "      <td>plectin isoform 1a</td>\n",
       "      <td>1.111370</td>\n",
       "      <td>2.650422</td>\n",
       "      <td>-0.654285</td>\n",
       "      <td>0.215413</td>\n",
       "      <td>-0.500619</td>\n",
       "      <td>2.779709</td>\n",
       "      <td>0.870186</td>\n",
       "      <td>...</td>\n",
       "      <td>-0.943919</td>\n",
       "      <td>-0.487772</td>\n",
       "      <td>-0.10668</td>\n",
       "      <td>-0.065838</td>\n",
       "      <td>0.655850</td>\n",
       "      <td>-0.552212</td>\n",
       "      <td>-0.392601</td>\n",
       "      <td>0.603993</td>\n",
       "      <td>-0.186022</td>\n",
       "      <td>0.576747</td>\n",
       "    </tr>\n",
       "    <tr>\n",
       "      <th>3</th>\n",
       "      <td>NP_000436</td>\n",
       "      <td>NaN</td>\n",
       "      <td>plectin isoform 1c</td>\n",
       "      <td>1.107561</td>\n",
       "      <td>2.646374</td>\n",
       "      <td>-0.632113</td>\n",
       "      <td>0.205377</td>\n",
       "      <td>-0.510459</td>\n",
       "      <td>2.797995</td>\n",
       "      <td>0.866423</td>\n",
       "      <td>...</td>\n",
       "      <td>-0.935355</td>\n",
       "      <td>-0.487772</td>\n",
       "      <td>-0.10668</td>\n",
       "      <td>-0.055893</td>\n",
       "      <td>0.655850</td>\n",
       "      <td>-0.552212</td>\n",
       "      <td>-0.392601</td>\n",
       "      <td>0.603993</td>\n",
       "      <td>-0.186022</td>\n",
       "      <td>0.576747</td>\n",
       "    </tr>\n",
       "    <tr>\n",
       "      <th>4</th>\n",
       "      <td>NP_958781</td>\n",
       "      <td>NaN</td>\n",
       "      <td>plectin isoform 1e</td>\n",
       "      <td>1.115180</td>\n",
       "      <td>2.646374</td>\n",
       "      <td>-0.640428</td>\n",
       "      <td>0.215413</td>\n",
       "      <td>-0.503899</td>\n",
       "      <td>2.787023</td>\n",
       "      <td>0.870186</td>\n",
       "      <td>...</td>\n",
       "      <td>-0.935355</td>\n",
       "      <td>-0.503853</td>\n",
       "      <td>-0.10668</td>\n",
       "      <td>-0.062523</td>\n",
       "      <td>0.651264</td>\n",
       "      <td>-0.556675</td>\n",
       "      <td>-0.395581</td>\n",
       "      <td>0.603993</td>\n",
       "      <td>-0.167079</td>\n",
       "      <td>0.576747</td>\n",
       "    </tr>\n",
       "  </tbody>\n",
       "</table>\n",
       "<p>5 rows × 86 columns</p>\n",
       "</div>"
      ],
      "text/plain": [
       "  RefSeq_accession_number gene_symbol           gene_name  AO-A12D.01TCGA  \\\n",
       "0               NP_958782        PLEC   plectin isoform 1        1.096131   \n",
       "1               NP_958785         NaN  plectin isoform 1g        1.111370   \n",
       "2               NP_958786        PLEC  plectin isoform 1a        1.111370   \n",
       "3               NP_000436         NaN  plectin isoform 1c        1.107561   \n",
       "4               NP_958781         NaN  plectin isoform 1e        1.115180   \n",
       "\n",
       "   C8-A131.01TCGA  AO-A12B.01TCGA  BH-A18Q.02TCGA  C8-A130.02TCGA  \\\n",
       "0        2.609943       -0.659828        0.195341       -0.494060   \n",
       "1        2.650422       -0.648742        0.215413       -0.503899   \n",
       "2        2.650422       -0.654285        0.215413       -0.500619   \n",
       "3        2.646374       -0.632113        0.205377       -0.510459   \n",
       "4        2.646374       -0.640428        0.215413       -0.503899   \n",
       "\n",
       "   C8-A138.03TCGA  E2-A154.03TCGA       ...        AO-A12B.34TCGA  \\\n",
       "0        2.765081        0.862659       ...             -0.963904   \n",
       "1        2.779709        0.870186       ...             -0.938210   \n",
       "2        2.779709        0.870186       ...             -0.943919   \n",
       "3        2.797995        0.866423       ...             -0.935355   \n",
       "4        2.787023        0.870186       ...             -0.935355   \n",
       "\n",
       "   A2-A0SW.35TCGA  AO-A0JL.35TCGA  BH-A0BV.35TCGA  A2-A0YM.36TCGA  \\\n",
       "0       -0.487772        -0.10668       -0.065838        0.655850   \n",
       "1       -0.487772        -0.10668       -0.055893        0.658143   \n",
       "2       -0.487772        -0.10668       -0.065838        0.655850   \n",
       "3       -0.487772        -0.10668       -0.055893        0.655850   \n",
       "4       -0.503853        -0.10668       -0.062523        0.651264   \n",
       "\n",
       "   BH-A0C7.36TCGA  A2-A0SX.36TCGA  263d3f-I.CPTAC  blcdb9-I.CPTAC  \\\n",
       "0       -0.552212       -0.398560        0.598585       -0.191285   \n",
       "1       -0.547749       -0.392601        0.606697       -0.183918   \n",
       "2       -0.552212       -0.392601        0.603993       -0.186022   \n",
       "3       -0.552212       -0.392601        0.603993       -0.186022   \n",
       "4       -0.556675       -0.395581        0.603993       -0.167079   \n",
       "\n",
       "   c4155b-C.CPTAC  \n",
       "0        0.566975  \n",
       "1        0.578702  \n",
       "2        0.576747  \n",
       "3        0.576747  \n",
       "4        0.576747  \n",
       "\n",
       "[5 rows x 86 columns]"
      ]
     },
     "execution_count": 5,
     "metadata": {},
     "output_type": "execute_result"
    }
   ],
   "source": [
    "cancerProteomeData.head()"
   ]
  },
  {
   "cell_type": "markdown",
   "metadata": {
    "nbpresent": {
     "id": "ca3533ac-6a0a-43da-907c-77ac1c377b51"
    }
   },
   "source": [
    "Observe mostly binary classification features in Clinical Data"
   ]
  },
  {
   "cell_type": "code",
   "execution_count": 6,
   "metadata": {
    "nbpresent": {
     "id": "05f4edf6-c87f-4d50-bb28-536ce38a8626"
    }
   },
   "outputs": [
    {
     "data": {
      "text/html": [
       "<div>\n",
       "<style>\n",
       "    .dataframe thead tr:only-child th {\n",
       "        text-align: right;\n",
       "    }\n",
       "\n",
       "    .dataframe thead th {\n",
       "        text-align: left;\n",
       "    }\n",
       "\n",
       "    .dataframe tbody tr th {\n",
       "        vertical-align: top;\n",
       "    }\n",
       "</style>\n",
       "<table border=\"1\" class=\"dataframe\">\n",
       "  <thead>\n",
       "    <tr style=\"text-align: right;\">\n",
       "      <th></th>\n",
       "      <th>Complete TCGA ID</th>\n",
       "      <th>Gender</th>\n",
       "      <th>Age at Initial Pathologic Diagnosis</th>\n",
       "      <th>ER Status</th>\n",
       "      <th>PR Status</th>\n",
       "      <th>HER2 Final Status</th>\n",
       "      <th>Tumor</th>\n",
       "      <th>Tumor--T1 Coded</th>\n",
       "      <th>Node</th>\n",
       "      <th>Node-Coded</th>\n",
       "      <th>...</th>\n",
       "      <th>PAM50 mRNA</th>\n",
       "      <th>SigClust Unsupervised mRNA</th>\n",
       "      <th>SigClust Intrinsic mRNA</th>\n",
       "      <th>miRNA Clusters</th>\n",
       "      <th>methylation Clusters</th>\n",
       "      <th>RPPA Clusters</th>\n",
       "      <th>CN Clusters</th>\n",
       "      <th>Integrated Clusters (with PAM50)</th>\n",
       "      <th>Integrated Clusters (no exp)</th>\n",
       "      <th>Integrated Clusters (unsup exp)</th>\n",
       "    </tr>\n",
       "  </thead>\n",
       "  <tbody>\n",
       "    <tr>\n",
       "      <th>0</th>\n",
       "      <td>TCGA-A2-A0T2</td>\n",
       "      <td>FEMALE</td>\n",
       "      <td>66</td>\n",
       "      <td>Negative</td>\n",
       "      <td>Negative</td>\n",
       "      <td>Negative</td>\n",
       "      <td>T3</td>\n",
       "      <td>T_Other</td>\n",
       "      <td>N3</td>\n",
       "      <td>Positive</td>\n",
       "      <td>...</td>\n",
       "      <td>Basal-like</td>\n",
       "      <td>0</td>\n",
       "      <td>-13</td>\n",
       "      <td>3</td>\n",
       "      <td>5</td>\n",
       "      <td>Basal</td>\n",
       "      <td>3</td>\n",
       "      <td>2</td>\n",
       "      <td>2</td>\n",
       "      <td>2</td>\n",
       "    </tr>\n",
       "    <tr>\n",
       "      <th>1</th>\n",
       "      <td>TCGA-A2-A0CM</td>\n",
       "      <td>FEMALE</td>\n",
       "      <td>40</td>\n",
       "      <td>Negative</td>\n",
       "      <td>Negative</td>\n",
       "      <td>Negative</td>\n",
       "      <td>T2</td>\n",
       "      <td>T_Other</td>\n",
       "      <td>N0</td>\n",
       "      <td>Negative</td>\n",
       "      <td>...</td>\n",
       "      <td>Basal-like</td>\n",
       "      <td>-12</td>\n",
       "      <td>-13</td>\n",
       "      <td>4</td>\n",
       "      <td>4</td>\n",
       "      <td>Basal</td>\n",
       "      <td>4</td>\n",
       "      <td>2</td>\n",
       "      <td>1</td>\n",
       "      <td>1</td>\n",
       "    </tr>\n",
       "    <tr>\n",
       "      <th>2</th>\n",
       "      <td>TCGA-BH-A18V</td>\n",
       "      <td>FEMALE</td>\n",
       "      <td>48</td>\n",
       "      <td>Negative</td>\n",
       "      <td>Negative</td>\n",
       "      <td>Negative</td>\n",
       "      <td>T2</td>\n",
       "      <td>T_Other</td>\n",
       "      <td>N1</td>\n",
       "      <td>Positive</td>\n",
       "      <td>...</td>\n",
       "      <td>Basal-like</td>\n",
       "      <td>-12</td>\n",
       "      <td>-13</td>\n",
       "      <td>5</td>\n",
       "      <td>5</td>\n",
       "      <td>Basal</td>\n",
       "      <td>1</td>\n",
       "      <td>2</td>\n",
       "      <td>2</td>\n",
       "      <td>2</td>\n",
       "    </tr>\n",
       "    <tr>\n",
       "      <th>3</th>\n",
       "      <td>TCGA-BH-A18Q</td>\n",
       "      <td>FEMALE</td>\n",
       "      <td>56</td>\n",
       "      <td>Negative</td>\n",
       "      <td>Negative</td>\n",
       "      <td>Negative</td>\n",
       "      <td>T2</td>\n",
       "      <td>T_Other</td>\n",
       "      <td>N1</td>\n",
       "      <td>Positive</td>\n",
       "      <td>...</td>\n",
       "      <td>Basal-like</td>\n",
       "      <td>-12</td>\n",
       "      <td>-13</td>\n",
       "      <td>5</td>\n",
       "      <td>5</td>\n",
       "      <td>Basal</td>\n",
       "      <td>1</td>\n",
       "      <td>2</td>\n",
       "      <td>2</td>\n",
       "      <td>2</td>\n",
       "    </tr>\n",
       "    <tr>\n",
       "      <th>4</th>\n",
       "      <td>TCGA-BH-A0E0</td>\n",
       "      <td>FEMALE</td>\n",
       "      <td>38</td>\n",
       "      <td>Negative</td>\n",
       "      <td>Negative</td>\n",
       "      <td>Negative</td>\n",
       "      <td>T3</td>\n",
       "      <td>T_Other</td>\n",
       "      <td>N3</td>\n",
       "      <td>Positive</td>\n",
       "      <td>...</td>\n",
       "      <td>Basal-like</td>\n",
       "      <td>0</td>\n",
       "      <td>-13</td>\n",
       "      <td>5</td>\n",
       "      <td>5</td>\n",
       "      <td>Basal</td>\n",
       "      <td>1</td>\n",
       "      <td>2</td>\n",
       "      <td>2</td>\n",
       "      <td>2</td>\n",
       "    </tr>\n",
       "  </tbody>\n",
       "</table>\n",
       "<p>5 rows × 30 columns</p>\n",
       "</div>"
      ],
      "text/plain": [
       "  Complete TCGA ID  Gender  Age at Initial Pathologic Diagnosis ER Status  \\\n",
       "0     TCGA-A2-A0T2  FEMALE                                   66  Negative   \n",
       "1     TCGA-A2-A0CM  FEMALE                                   40  Negative   \n",
       "2     TCGA-BH-A18V  FEMALE                                   48  Negative   \n",
       "3     TCGA-BH-A18Q  FEMALE                                   56  Negative   \n",
       "4     TCGA-BH-A0E0  FEMALE                                   38  Negative   \n",
       "\n",
       "  PR Status HER2 Final Status Tumor Tumor--T1 Coded Node Node-Coded  \\\n",
       "0  Negative          Negative    T3         T_Other   N3   Positive   \n",
       "1  Negative          Negative    T2         T_Other   N0   Negative   \n",
       "2  Negative          Negative    T2         T_Other   N1   Positive   \n",
       "3  Negative          Negative    T2         T_Other   N1   Positive   \n",
       "4  Negative          Negative    T3         T_Other   N3   Positive   \n",
       "\n",
       "                ...                 PAM50 mRNA SigClust Unsupervised mRNA  \\\n",
       "0               ...                 Basal-like                          0   \n",
       "1               ...                 Basal-like                        -12   \n",
       "2               ...                 Basal-like                        -12   \n",
       "3               ...                 Basal-like                        -12   \n",
       "4               ...                 Basal-like                          0   \n",
       "\n",
       "  SigClust Intrinsic mRNA miRNA Clusters methylation Clusters RPPA Clusters  \\\n",
       "0                     -13              3                    5         Basal   \n",
       "1                     -13              4                    4         Basal   \n",
       "2                     -13              5                    5         Basal   \n",
       "3                     -13              5                    5         Basal   \n",
       "4                     -13              5                    5         Basal   \n",
       "\n",
       "   CN Clusters  Integrated Clusters (with PAM50)  \\\n",
       "0            3                                 2   \n",
       "1            4                                 2   \n",
       "2            1                                 2   \n",
       "3            1                                 2   \n",
       "4            1                                 2   \n",
       "\n",
       "   Integrated Clusters (no exp)  Integrated Clusters (unsup exp)  \n",
       "0                             2                                2  \n",
       "1                             1                                1  \n",
       "2                             2                                2  \n",
       "3                             2                                2  \n",
       "4                             2                                2  \n",
       "\n",
       "[5 rows x 30 columns]"
      ]
     },
     "execution_count": 6,
     "metadata": {},
     "output_type": "execute_result"
    }
   ],
   "source": [
    "clinicalData.head()"
   ]
  },
  {
   "cell_type": "code",
   "execution_count": 7,
   "metadata": {
    "nbpresent": {
     "id": "3e1443da-91d6-49d3-9f42-1f3dab71a353"
    }
   },
   "outputs": [
    {
     "data": {
      "text/plain": [
       "GeneSymbol         0\n",
       "RefSeqProteinID    0\n",
       "Species            0\n",
       "Gene Name          0\n",
       "dtype: int64"
      ]
     },
     "execution_count": 7,
     "metadata": {},
     "output_type": "execute_result"
    }
   ],
   "source": [
    "pam50proteinData.isnull().sum()"
   ]
  },
  {
   "cell_type": "markdown",
   "metadata": {
    "nbpresent": {
     "id": "b75eaaf6-f45c-427d-922a-8e32c5c0c447"
    },
    "slideshow": {
     "slide_type": "slide"
    }
   },
   "source": [
    "Pam50 has no NaN values"
   ]
  },
  {
   "cell_type": "code",
   "execution_count": 8,
   "metadata": {
    "nbpresent": {
     "id": "8a9c64cb-0b0d-419e-9306-d59a852936b9"
    },
    "slideshow": {
     "slide_type": "slide"
    }
   },
   "outputs": [
    {
     "data": {
      "text/plain": [
       "<bound method DataFrame.sum of        RefSeq_accession_number  gene_symbol  gene_name  AO-A12D.01TCGA  \\\n",
       "0                        False        False      False           False   \n",
       "1                        False         True      False           False   \n",
       "2                        False        False      False           False   \n",
       "3                        False         True      False           False   \n",
       "4                        False         True      False           False   \n",
       "5                        False        False      False           False   \n",
       "6                        False        False      False           False   \n",
       "7                        False         True      False           False   \n",
       "8                        False         True      False           False   \n",
       "9                        False        False      False           False   \n",
       "10                       False        False      False           False   \n",
       "11                       False        False      False           False   \n",
       "12                       False        False      False           False   \n",
       "13                       False         True      False           False   \n",
       "14                       False        False      False           False   \n",
       "15                       False        False      False           False   \n",
       "16                       False        False      False           False   \n",
       "17                       False        False      False           False   \n",
       "18                       False        False      False           False   \n",
       "19                       False        False      False           False   \n",
       "20                       False        False      False           False   \n",
       "21                       False        False      False           False   \n",
       "22                       False        False      False           False   \n",
       "23                       False        False      False           False   \n",
       "24                       False        False      False           False   \n",
       "25                       False        False      False           False   \n",
       "26                       False        False      False           False   \n",
       "27                       False         True      False           False   \n",
       "28                       False        False      False           False   \n",
       "29                       False        False      False           False   \n",
       "...                        ...          ...        ...             ...   \n",
       "12523                    False        False      False            True   \n",
       "12524                    False        False      False           False   \n",
       "12525                    False         True      False           False   \n",
       "12526                    False        False      False            True   \n",
       "12527                    False         True      False            True   \n",
       "12528                    False        False      False           False   \n",
       "12529                    False        False      False           False   \n",
       "12530                    False        False      False           False   \n",
       "12531                    False        False      False            True   \n",
       "12532                    False        False      False           False   \n",
       "12533                    False         True      False            True   \n",
       "12534                    False         True      False           False   \n",
       "12535                    False        False      False            True   \n",
       "12536                    False        False      False            True   \n",
       "12537                    False        False      False            True   \n",
       "12538                    False        False      False            True   \n",
       "12539                    False        False      False            True   \n",
       "12540                    False        False      False            True   \n",
       "12541                    False        False      False            True   \n",
       "12542                    False        False      False           False   \n",
       "12543                    False         True      False            True   \n",
       "12544                    False        False      False            True   \n",
       "12545                    False        False      False            True   \n",
       "12546                    False        False      False           False   \n",
       "12547                    False        False      False            True   \n",
       "12548                    False         True      False            True   \n",
       "12549                    False         True      False            True   \n",
       "12550                    False        False      False            True   \n",
       "12551                    False        False      False           False   \n",
       "12552                    False        False      False           False   \n",
       "\n",
       "       C8-A131.01TCGA  AO-A12B.01TCGA  BH-A18Q.02TCGA  C8-A130.02TCGA  \\\n",
       "0               False           False           False           False   \n",
       "1               False           False           False           False   \n",
       "2               False           False           False           False   \n",
       "3               False           False           False           False   \n",
       "4               False           False           False           False   \n",
       "5               False           False           False           False   \n",
       "6               False           False           False           False   \n",
       "7               False           False           False           False   \n",
       "8               False           False           False           False   \n",
       "9               False           False           False           False   \n",
       "10              False           False           False           False   \n",
       "11              False           False           False           False   \n",
       "12              False           False           False           False   \n",
       "13              False           False           False           False   \n",
       "14              False           False           False           False   \n",
       "15              False           False           False           False   \n",
       "16              False           False           False           False   \n",
       "17              False           False           False           False   \n",
       "18              False           False           False           False   \n",
       "19              False           False           False           False   \n",
       "20              False           False           False           False   \n",
       "21              False           False           False           False   \n",
       "22              False           False           False           False   \n",
       "23              False           False           False           False   \n",
       "24              False           False           False           False   \n",
       "25              False           False           False           False   \n",
       "26              False           False           False           False   \n",
       "27              False           False           False           False   \n",
       "28              False           False           False           False   \n",
       "29              False           False           False           False   \n",
       "...               ...             ...             ...             ...   \n",
       "12523            True            True           False           False   \n",
       "12524           False           False           False           False   \n",
       "12525           False           False            True            True   \n",
       "12526            True            True            True            True   \n",
       "12527            True            True            True            True   \n",
       "12528           False           False           False           False   \n",
       "12529           False           False            True            True   \n",
       "12530           False           False            True            True   \n",
       "12531            True            True           False           False   \n",
       "12532           False           False           False           False   \n",
       "12533            True            True           False           False   \n",
       "12534           False           False            True            True   \n",
       "12535            True            True            True            True   \n",
       "12536            True            True           False           False   \n",
       "12537            True            True           False           False   \n",
       "12538            True            True            True            True   \n",
       "12539            True            True            True            True   \n",
       "12540            True            True            True            True   \n",
       "12541            True            True           False           False   \n",
       "12542           False           False           False           False   \n",
       "12543            True            True           False           False   \n",
       "12544            True            True            True            True   \n",
       "12545            True            True           False           False   \n",
       "12546           False           False           False           False   \n",
       "12547            True            True           False           False   \n",
       "12548            True            True           False           False   \n",
       "12549            True            True           False           False   \n",
       "12550            True            True           False           False   \n",
       "12551           False           False            True            True   \n",
       "12552           False           False           False           False   \n",
       "\n",
       "       C8-A138.03TCGA  E2-A154.03TCGA       ...        AO-A12B.34TCGA  \\\n",
       "0               False           False       ...                 False   \n",
       "1               False           False       ...                 False   \n",
       "2               False           False       ...                 False   \n",
       "3               False           False       ...                 False   \n",
       "4               False           False       ...                 False   \n",
       "5               False           False       ...                 False   \n",
       "6               False           False       ...                 False   \n",
       "7               False           False       ...                 False   \n",
       "8               False           False       ...                 False   \n",
       "9               False           False       ...                 False   \n",
       "10              False           False       ...                 False   \n",
       "11              False           False       ...                 False   \n",
       "12              False           False       ...                 False   \n",
       "13              False           False       ...                 False   \n",
       "14              False           False       ...                 False   \n",
       "15              False           False       ...                 False   \n",
       "16              False           False       ...                 False   \n",
       "17              False           False       ...                 False   \n",
       "18              False           False       ...                 False   \n",
       "19              False           False       ...                 False   \n",
       "20              False           False       ...                 False   \n",
       "21              False           False       ...                 False   \n",
       "22              False           False       ...                 False   \n",
       "23              False           False       ...                 False   \n",
       "24              False           False       ...                 False   \n",
       "25              False           False       ...                 False   \n",
       "26              False           False       ...                 False   \n",
       "27              False           False       ...                 False   \n",
       "28              False           False       ...                 False   \n",
       "29              False           False       ...                 False   \n",
       "...               ...             ...       ...                   ...   \n",
       "12523            True            True       ...                  True   \n",
       "12524           False           False       ...                  True   \n",
       "12525           False           False       ...                 False   \n",
       "12526           False           False       ...                 False   \n",
       "12527            True            True       ...                  True   \n",
       "12528           False           False       ...                  True   \n",
       "12529           False           False       ...                  True   \n",
       "12530           False           False       ...                  True   \n",
       "12531           False           False       ...                  True   \n",
       "12532           False           False       ...                  True   \n",
       "12533           False           False       ...                 False   \n",
       "12534           False           False       ...                 False   \n",
       "12535           False           False       ...                  True   \n",
       "12536           False           False       ...                  True   \n",
       "12537           False           False       ...                 False   \n",
       "12538           False           False       ...                 False   \n",
       "12539           False           False       ...                 False   \n",
       "12540            True            True       ...                 False   \n",
       "12541            True            True       ...                  True   \n",
       "12542           False           False       ...                  True   \n",
       "12543           False           False       ...                  True   \n",
       "12544           False           False       ...                 False   \n",
       "12545           False           False       ...                 False   \n",
       "12546            True            True       ...                 False   \n",
       "12547           False           False       ...                  True   \n",
       "12548           False           False       ...                 False   \n",
       "12549           False           False       ...                  True   \n",
       "12550           False           False       ...                  True   \n",
       "12551            True            True       ...                  True   \n",
       "12552            True            True       ...                 False   \n",
       "\n",
       "       A2-A0SW.35TCGA  AO-A0JL.35TCGA  BH-A0BV.35TCGA  A2-A0YM.36TCGA  \\\n",
       "0               False           False           False           False   \n",
       "1               False           False           False           False   \n",
       "2               False           False           False           False   \n",
       "3               False           False           False           False   \n",
       "4               False           False           False           False   \n",
       "5               False           False           False           False   \n",
       "6               False           False           False           False   \n",
       "7               False           False           False           False   \n",
       "8               False           False           False           False   \n",
       "9               False           False           False           False   \n",
       "10              False           False           False           False   \n",
       "11              False           False           False           False   \n",
       "12              False           False           False           False   \n",
       "13              False           False           False           False   \n",
       "14              False           False           False           False   \n",
       "15              False           False           False           False   \n",
       "16              False           False           False           False   \n",
       "17              False           False           False           False   \n",
       "18              False           False           False           False   \n",
       "19              False           False           False           False   \n",
       "20              False           False           False           False   \n",
       "21              False           False           False           False   \n",
       "22              False           False           False           False   \n",
       "23              False           False           False           False   \n",
       "24              False           False           False           False   \n",
       "25              False           False           False           False   \n",
       "26              False           False           False           False   \n",
       "27              False           False           False           False   \n",
       "28              False           False           False           False   \n",
       "29              False           False           False           False   \n",
       "...               ...             ...             ...             ...   \n",
       "12523           False           False           False            True   \n",
       "12524            True            True            True            True   \n",
       "12525            True            True            True            True   \n",
       "12526            True            True            True            True   \n",
       "12527            True            True            True            True   \n",
       "12528           False           False           False            True   \n",
       "12529            True            True            True            True   \n",
       "12530           False           False           False           False   \n",
       "12531            True            True            True            True   \n",
       "12532            True            True            True            True   \n",
       "12533            True            True            True            True   \n",
       "12534           False           False           False           False   \n",
       "12535            True            True            True            True   \n",
       "12536            True            True            True            True   \n",
       "12537           False           False           False           False   \n",
       "12538            True            True            True            True   \n",
       "12539            True            True            True           False   \n",
       "12540            True            True            True            True   \n",
       "12541            True            True            True            True   \n",
       "12542            True            True            True            True   \n",
       "12543           False           False           False            True   \n",
       "12544           False           False           False            True   \n",
       "12545            True            True            True            True   \n",
       "12546           False           False           False            True   \n",
       "12547            True            True            True            True   \n",
       "12548            True            True            True            True   \n",
       "12549            True            True            True            True   \n",
       "12550            True            True            True            True   \n",
       "12551            True            True            True            True   \n",
       "12552            True            True            True            True   \n",
       "\n",
       "       BH-A0C7.36TCGA  A2-A0SX.36TCGA  263d3f-I.CPTAC  blcdb9-I.CPTAC  \\\n",
       "0               False           False           False           False   \n",
       "1               False           False           False           False   \n",
       "2               False           False           False           False   \n",
       "3               False           False           False           False   \n",
       "4               False           False           False           False   \n",
       "5               False           False           False           False   \n",
       "6               False           False           False           False   \n",
       "7               False           False           False           False   \n",
       "8               False           False           False           False   \n",
       "9               False           False           False           False   \n",
       "10              False           False           False           False   \n",
       "11              False           False           False           False   \n",
       "12              False           False           False           False   \n",
       "13              False           False           False           False   \n",
       "14              False           False           False           False   \n",
       "15              False           False           False           False   \n",
       "16              False           False           False           False   \n",
       "17              False           False           False           False   \n",
       "18              False           False           False           False   \n",
       "19              False           False           False           False   \n",
       "20              False           False           False           False   \n",
       "21              False           False           False           False   \n",
       "22              False           False           False           False   \n",
       "23              False           False           False           False   \n",
       "24              False           False           False           False   \n",
       "25              False           False           False           False   \n",
       "26              False           False           False           False   \n",
       "27              False           False           False           False   \n",
       "28              False           False           False           False   \n",
       "29              False           False            True            True   \n",
       "...               ...             ...             ...             ...   \n",
       "12523            True            True            True            True   \n",
       "12524            True            True            True            True   \n",
       "12525            True            True           False           False   \n",
       "12526            True            True           False           False   \n",
       "12527            True            True            True            True   \n",
       "12528            True            True           False           False   \n",
       "12529            True            True            True            True   \n",
       "12530           False           False            True            True   \n",
       "12531            True            True           False           False   \n",
       "12532            True            True            True            True   \n",
       "12533            True            True            True            True   \n",
       "12534           False           False           False           False   \n",
       "12535            True            True            True            True   \n",
       "12536            True            True            True            True   \n",
       "12537           False           False           False           False   \n",
       "12538            True            True           False           False   \n",
       "12539           False           False            True            True   \n",
       "12540            True            True            True            True   \n",
       "12541            True            True           False           False   \n",
       "12542            True            True            True            True   \n",
       "12543            True            True           False           False   \n",
       "12544            True            True           False           False   \n",
       "12545            True            True            True            True   \n",
       "12546            True            True            True            True   \n",
       "12547            True            True            True            True   \n",
       "12548            True            True           False           False   \n",
       "12549            True            True           False           False   \n",
       "12550            True            True            True            True   \n",
       "12551            True            True           False           False   \n",
       "12552            True            True            True            True   \n",
       "\n",
       "       c4155b-C.CPTAC  \n",
       "0               False  \n",
       "1               False  \n",
       "2               False  \n",
       "3               False  \n",
       "4               False  \n",
       "5               False  \n",
       "6               False  \n",
       "7               False  \n",
       "8               False  \n",
       "9               False  \n",
       "10              False  \n",
       "11              False  \n",
       "12              False  \n",
       "13              False  \n",
       "14              False  \n",
       "15              False  \n",
       "16              False  \n",
       "17              False  \n",
       "18              False  \n",
       "19              False  \n",
       "20              False  \n",
       "21              False  \n",
       "22              False  \n",
       "23              False  \n",
       "24              False  \n",
       "25              False  \n",
       "26              False  \n",
       "27              False  \n",
       "28              False  \n",
       "29               True  \n",
       "...               ...  \n",
       "12523            True  \n",
       "12524            True  \n",
       "12525           False  \n",
       "12526           False  \n",
       "12527            True  \n",
       "12528           False  \n",
       "12529            True  \n",
       "12530            True  \n",
       "12531           False  \n",
       "12532            True  \n",
       "12533            True  \n",
       "12534           False  \n",
       "12535            True  \n",
       "12536            True  \n",
       "12537           False  \n",
       "12538           False  \n",
       "12539            True  \n",
       "12540            True  \n",
       "12541           False  \n",
       "12542            True  \n",
       "12543           False  \n",
       "12544           False  \n",
       "12545            True  \n",
       "12546            True  \n",
       "12547            True  \n",
       "12548           False  \n",
       "12549           False  \n",
       "12550            True  \n",
       "12551           False  \n",
       "12552            True  \n",
       "\n",
       "[12553 rows x 86 columns]>"
      ]
     },
     "execution_count": 8,
     "metadata": {},
     "output_type": "execute_result"
    }
   ],
   "source": [
    "cancerProteomeData.isnull().sum"
   ]
  },
  {
   "cell_type": "markdown",
   "metadata": {
    "nbpresent": {
     "id": "a0a84a74-126a-48bc-932a-dea83957e474"
    },
    "slideshow": {
     "slide_type": "slide"
    }
   },
   "source": [
    "Our Proteomic Dataset includes many NaN values, so we must be careful if we plan to use it for feature engineering or classifications."
   ]
  },
  {
   "cell_type": "code",
   "execution_count": 9,
   "metadata": {
    "nbpresent": {
     "id": "b730f084-0da8-4927-846c-447b34ebdc55"
    },
    "scrolled": true
   },
   "outputs": [
    {
     "data": {
      "text/html": [
       "<div>\n",
       "<style>\n",
       "    .dataframe thead tr:only-child th {\n",
       "        text-align: right;\n",
       "    }\n",
       "\n",
       "    .dataframe thead th {\n",
       "        text-align: left;\n",
       "    }\n",
       "\n",
       "    .dataframe tbody tr th {\n",
       "        vertical-align: top;\n",
       "    }\n",
       "</style>\n",
       "<table border=\"1\" class=\"dataframe\">\n",
       "  <thead>\n",
       "    <tr style=\"text-align: right;\">\n",
       "      <th></th>\n",
       "      <th>Age at Initial Pathologic Diagnosis</th>\n",
       "      <th>Days to Date of Last Contact</th>\n",
       "      <th>Days to date of Death</th>\n",
       "      <th>OS event</th>\n",
       "      <th>OS Time</th>\n",
       "      <th>SigClust Unsupervised mRNA</th>\n",
       "      <th>SigClust Intrinsic mRNA</th>\n",
       "      <th>miRNA Clusters</th>\n",
       "      <th>methylation Clusters</th>\n",
       "      <th>CN Clusters</th>\n",
       "      <th>Integrated Clusters (with PAM50)</th>\n",
       "      <th>Integrated Clusters (no exp)</th>\n",
       "      <th>Integrated Clusters (unsup exp)</th>\n",
       "    </tr>\n",
       "  </thead>\n",
       "  <tbody>\n",
       "    <tr>\n",
       "      <th>count</th>\n",
       "      <td>105.000000</td>\n",
       "      <td>105.000000</td>\n",
       "      <td>11.000000</td>\n",
       "      <td>105.000000</td>\n",
       "      <td>105.000000</td>\n",
       "      <td>105.000000</td>\n",
       "      <td>105.000000</td>\n",
       "      <td>105.000000</td>\n",
       "      <td>105.000000</td>\n",
       "      <td>105.000000</td>\n",
       "      <td>105.000000</td>\n",
       "      <td>105.000000</td>\n",
       "      <td>105.000000</td>\n",
       "    </tr>\n",
       "    <tr>\n",
       "      <th>mean</th>\n",
       "      <td>58.685714</td>\n",
       "      <td>788.390476</td>\n",
       "      <td>1254.454545</td>\n",
       "      <td>0.104762</td>\n",
       "      <td>817.647619</td>\n",
       "      <td>-4.885714</td>\n",
       "      <td>-7.180952</td>\n",
       "      <td>4.000000</td>\n",
       "      <td>3.342857</td>\n",
       "      <td>2.590476</td>\n",
       "      <td>2.742857</td>\n",
       "      <td>1.980952</td>\n",
       "      <td>2.352381</td>\n",
       "    </tr>\n",
       "    <tr>\n",
       "      <th>std</th>\n",
       "      <td>13.066630</td>\n",
       "      <td>645.283040</td>\n",
       "      <td>678.050642</td>\n",
       "      <td>0.307715</td>\n",
       "      <td>672.026613</td>\n",
       "      <td>3.558074</td>\n",
       "      <td>5.022605</td>\n",
       "      <td>1.593255</td>\n",
       "      <td>1.406226</td>\n",
       "      <td>1.342323</td>\n",
       "      <td>1.074428</td>\n",
       "      <td>0.970537</td>\n",
       "      <td>1.091761</td>\n",
       "    </tr>\n",
       "    <tr>\n",
       "      <th>min</th>\n",
       "      <td>30.000000</td>\n",
       "      <td>0.000000</td>\n",
       "      <td>160.000000</td>\n",
       "      <td>0.000000</td>\n",
       "      <td>0.000000</td>\n",
       "      <td>-12.000000</td>\n",
       "      <td>-13.000000</td>\n",
       "      <td>1.000000</td>\n",
       "      <td>1.000000</td>\n",
       "      <td>1.000000</td>\n",
       "      <td>1.000000</td>\n",
       "      <td>1.000000</td>\n",
       "      <td>1.000000</td>\n",
       "    </tr>\n",
       "    <tr>\n",
       "      <th>25%</th>\n",
       "      <td>49.000000</td>\n",
       "      <td>240.000000</td>\n",
       "      <td>947.500000</td>\n",
       "      <td>0.000000</td>\n",
       "      <td>240.000000</td>\n",
       "      <td>-6.000000</td>\n",
       "      <td>-12.000000</td>\n",
       "      <td>3.000000</td>\n",
       "      <td>2.000000</td>\n",
       "      <td>1.000000</td>\n",
       "      <td>2.000000</td>\n",
       "      <td>1.000000</td>\n",
       "      <td>1.000000</td>\n",
       "    </tr>\n",
       "    <tr>\n",
       "      <th>50%</th>\n",
       "      <td>58.000000</td>\n",
       "      <td>643.000000</td>\n",
       "      <td>1364.000000</td>\n",
       "      <td>0.000000</td>\n",
       "      <td>665.000000</td>\n",
       "      <td>-5.000000</td>\n",
       "      <td>-6.000000</td>\n",
       "      <td>4.000000</td>\n",
       "      <td>4.000000</td>\n",
       "      <td>3.000000</td>\n",
       "      <td>3.000000</td>\n",
       "      <td>2.000000</td>\n",
       "      <td>2.000000</td>\n",
       "    </tr>\n",
       "    <tr>\n",
       "      <th>75%</th>\n",
       "      <td>67.000000</td>\n",
       "      <td>1288.000000</td>\n",
       "      <td>1627.500000</td>\n",
       "      <td>0.000000</td>\n",
       "      <td>1305.000000</td>\n",
       "      <td>-3.000000</td>\n",
       "      <td>-2.000000</td>\n",
       "      <td>5.000000</td>\n",
       "      <td>4.000000</td>\n",
       "      <td>3.000000</td>\n",
       "      <td>4.000000</td>\n",
       "      <td>3.000000</td>\n",
       "      <td>3.000000</td>\n",
       "    </tr>\n",
       "    <tr>\n",
       "      <th>max</th>\n",
       "      <td>88.000000</td>\n",
       "      <td>2850.000000</td>\n",
       "      <td>2483.000000</td>\n",
       "      <td>1.000000</td>\n",
       "      <td>2850.000000</td>\n",
       "      <td>0.000000</td>\n",
       "      <td>0.000000</td>\n",
       "      <td>7.000000</td>\n",
       "      <td>5.000000</td>\n",
       "      <td>5.000000</td>\n",
       "      <td>4.000000</td>\n",
       "      <td>4.000000</td>\n",
       "      <td>5.000000</td>\n",
       "    </tr>\n",
       "  </tbody>\n",
       "</table>\n",
       "</div>"
      ],
      "text/plain": [
       "       Age at Initial Pathologic Diagnosis  Days to Date of Last Contact  \\\n",
       "count                           105.000000                    105.000000   \n",
       "mean                             58.685714                    788.390476   \n",
       "std                              13.066630                    645.283040   \n",
       "min                              30.000000                      0.000000   \n",
       "25%                              49.000000                    240.000000   \n",
       "50%                              58.000000                    643.000000   \n",
       "75%                              67.000000                   1288.000000   \n",
       "max                              88.000000                   2850.000000   \n",
       "\n",
       "       Days to date of Death    OS event      OS Time  \\\n",
       "count              11.000000  105.000000   105.000000   \n",
       "mean             1254.454545    0.104762   817.647619   \n",
       "std               678.050642    0.307715   672.026613   \n",
       "min               160.000000    0.000000     0.000000   \n",
       "25%               947.500000    0.000000   240.000000   \n",
       "50%              1364.000000    0.000000   665.000000   \n",
       "75%              1627.500000    0.000000  1305.000000   \n",
       "max              2483.000000    1.000000  2850.000000   \n",
       "\n",
       "       SigClust Unsupervised mRNA  SigClust Intrinsic mRNA  miRNA Clusters  \\\n",
       "count                  105.000000               105.000000      105.000000   \n",
       "mean                    -4.885714                -7.180952        4.000000   \n",
       "std                      3.558074                 5.022605        1.593255   \n",
       "min                    -12.000000               -13.000000        1.000000   \n",
       "25%                     -6.000000               -12.000000        3.000000   \n",
       "50%                     -5.000000                -6.000000        4.000000   \n",
       "75%                     -3.000000                -2.000000        5.000000   \n",
       "max                      0.000000                 0.000000        7.000000   \n",
       "\n",
       "       methylation Clusters  CN Clusters  Integrated Clusters (with PAM50)  \\\n",
       "count            105.000000   105.000000                        105.000000   \n",
       "mean               3.342857     2.590476                          2.742857   \n",
       "std                1.406226     1.342323                          1.074428   \n",
       "min                1.000000     1.000000                          1.000000   \n",
       "25%                2.000000     1.000000                          2.000000   \n",
       "50%                4.000000     3.000000                          3.000000   \n",
       "75%                4.000000     3.000000                          4.000000   \n",
       "max                5.000000     5.000000                          4.000000   \n",
       "\n",
       "       Integrated Clusters (no exp)  Integrated Clusters (unsup exp)  \n",
       "count                    105.000000                       105.000000  \n",
       "mean                       1.980952                         2.352381  \n",
       "std                        0.970537                         1.091761  \n",
       "min                        1.000000                         1.000000  \n",
       "25%                        1.000000                         1.000000  \n",
       "50%                        2.000000                         2.000000  \n",
       "75%                        3.000000                         3.000000  \n",
       "max                        4.000000                         5.000000  "
      ]
     },
     "execution_count": 9,
     "metadata": {},
     "output_type": "execute_result"
    }
   ],
   "source": [
    "clinicalData.isnull().sum()\n",
    "clinicalData.describe()"
   ]
  },
  {
   "cell_type": "markdown",
   "metadata": {},
   "source": [
    "Here we see that our Clinical data supplied by iTRAQ has no NaN values, excluding the \"Days to date of Death\" feature, which can be extrapolated or dropped completely."
   ]
  },
  {
   "cell_type": "code",
   "execution_count": 10,
   "metadata": {},
   "outputs": [
    {
     "data": {
      "text/plain": [
       "<matplotlib.text.Text at 0x22d028c6390>"
      ]
     },
     "execution_count": 10,
     "metadata": {},
     "output_type": "execute_result"
    },
    {
     "data": {
      "image/png": "[encoded data removed]",
      "text/plain": [
       "<matplotlib.figure.Figure at 0x22d027c4240>"
      ]
     },
     "metadata": {},
     "output_type": "display_data"
    }
   ],
   "source": [
    "clinicalData['Days to Date of Last Contact'].plot(kind='bar')\n",
    "plt.xlabel('Patient with Respect to Index')\n",
    "plt.ylabel(\"Days to Date of Last Contact\")\n",
    "plt.title('Days to Date of Last Contact vs. Patient')"
   ]
  },
  {
   "cell_type": "code",
   "execution_count": 11,
   "metadata": {},
   "outputs": [
    {
     "data": {
      "text/plain": [
       "<matplotlib.axes._subplots.AxesSubplot at 0x22d02d649b0>"
      ]
     },
     "execution_count": 11,
     "metadata": {},
     "output_type": "execute_result"
    },
    {
     "data": {
      "image/png": "[encoded data removed]",
      "text/plain": [
       "<matplotlib.figure.Figure at 0x22d02f862b0>"
      ]
     },
     "metadata": {},
     "output_type": "display_data"
    }
   ],
   "source": [
    "sns.regplot(clinicalData['Age at Initial Pathologic Diagnosis'], clinicalData['Days to Date of Last Contact'])"
   ]
  },
  {
   "cell_type": "code",
   "execution_count": 12,
   "metadata": {},
   "outputs": [
    {
     "data": {
      "text/plain": [
       "<matplotlib.axes._subplots.AxesSubplot at 0x22d030a8ba8>"
      ]
     },
     "execution_count": 12,
     "metadata": {},
     "output_type": "execute_result"
    },
    {
     "data": {
      "image/png": "[encoded data removed]",
      "text/plain": [
       "<matplotlib.figure.Figure at 0x22d02f125c0>"
      ]
     },
     "metadata": {},
     "output_type": "display_data"
    }
   ],
   "source": [
    "sns.regplot(clinicalData['SigClust Unsupervised mRNA'], clinicalData['SigClust Intrinsic mRNA'])"
   ]
  },
  {
   "cell_type": "markdown",
   "metadata": {},
   "source": [
    "Correlation between Different Cancer Types"
   ]
  },
  {
   "cell_type": "code",
   "execution_count": 13,
   "metadata": {},
   "outputs": [
    {
     "data": {
      "text/plain": [
       "<matplotlib.axes._subplots.AxesSubplot at 0x22d032562b0>"
      ]
     },
     "execution_count": 13,
     "metadata": {},
     "output_type": "execute_result"
    },
    {
     "data": {
      "image/png": "[encoded data removed]",
      "text/plain": [
       "<matplotlib.figure.Figure at 0x22d0192edd8>"
      ]
     },
     "metadata": {},
     "output_type": "display_data"
    }
   ],
   "source": [
    "# sns.barplot(x=\"gene_name\", y=\"AO-A12D.01TCGA\", data=cancerProteomeData)\n",
    "sns.regplot(cancerProteomeData['C8-A131.01TCGA'], cancerProteomeData['AO-A12D.01TCGA'])"
   ]
  },
  {
   "cell_type": "markdown",
   "metadata": {},
   "source": [
    "Correlation between Healthy Patient and Cancerous Patient"
   ]
  },
  {
   "cell_type": "code",
   "execution_count": 14,
   "metadata": {
    "slideshow": {
     "slide_type": "slide"
    }
   },
   "outputs": [
    {
     "data": {
      "text/plain": [
       "<matplotlib.axes._subplots.AxesSubplot at 0x22d03b249b0>"
      ]
     },
     "execution_count": 14,
     "metadata": {},
     "output_type": "execute_result"
    },
    {
     "data": {
      "image/png": "[encoded data removed]",
      "text/plain": [
       "<matplotlib.figure.Figure at 0x22d032479b0>"
      ]
     },
     "metadata": {},
     "output_type": "display_data"
    }
   ],
   "source": [
    "sns.regplot(cancerProteomeData['c4155b-C.CPTAC'], cancerProteomeData['AO-A12D.01TCGA'])"
   ]
  },
  {
   "cell_type": "code",
   "execution_count": null,
   "metadata": {
    "collapsed": true
   },
   "outputs": [],
   "source": []
  },
  {
   "cell_type": "code",
   "execution_count": null,
   "metadata": {
    "collapsed": true
   },
   "outputs": [],
   "source": []
  },
  {
   "cell_type": "code",
   "execution_count": null,
   "metadata": {
    "collapsed": true
   },
   "outputs": [],
   "source": []
  }
 ],
 "metadata": {
  "anaconda-cloud": {},
  "kernelspec": {
   "display_name": "Python 3",
   "language": "python",
   "name": "python3"
  },
  "language_info": {
   "codemirror_mode": {
    "name": "ipython",
    "version": 3
   },
   "file_extension": ".py",
   "mimetype": "text/x-python",
   "name": "python",
   "nbconvert_exporter": "python",
   "pygments_lexer": "ipython3",
   "version": "3.6.1"
  },
  "nbpresent": {
   "slides": {},
   "themes": {}
  }
 },
 "nbformat": 4,
 "nbformat_minor": 2
}
